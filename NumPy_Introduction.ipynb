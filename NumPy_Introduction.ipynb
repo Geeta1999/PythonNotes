{
  "cells": [
    {
      "cell_type": "markdown",
      "metadata": {
        "id": "view-in-github",
        "colab_type": "text"
      },
      "source": [
        "<a href=\"https://colab.research.google.com/github/Geeta1999/PythonNotes/blob/main/NumPy_Introduction.ipynb\" target=\"_parent\"><img src=\"https://colab.research.google.com/assets/colab-badge.svg\" alt=\"Open In Colab\"/></a>"
      ]
    },
    {
      "cell_type": "code",
      "execution_count": null,
      "metadata": {
        "id": "j11BXhAEk61x"
      },
      "outputs": [],
      "source": [
        "import numpy as np"
      ]
    },
    {
      "cell_type": "markdown",
      "metadata": {
        "id": "G3NaYlI3k612"
      },
      "source": [
        " - You want to create a numpy array filled with random values between 0 - 1"
      ]
    },
    {
      "cell_type": "code",
      "execution_count": null,
      "metadata": {
        "id": "M2K8yS2Vk614"
      },
      "outputs": [],
      "source": [
        "array_rnd = np.random.random(size=(3, 4, 2))"
      ]
    },
    {
      "cell_type": "code",
      "execution_count": null,
      "metadata": {
        "id": "w4llxFgDk615",
        "outputId": "1c1cf7e3-8eac-45b6-b51d-c4af3912c234"
      },
      "outputs": [
        {
          "data": {
            "text/plain": [
              "(3, 4, 2)"
            ]
          },
          "execution_count": 7,
          "metadata": {},
          "output_type": "execute_result"
        }
      ],
      "source": [
        "array_rnd.shape"
      ]
    },
    {
      "cell_type": "code",
      "execution_count": null,
      "metadata": {
        "id": "q3bRAETqk616",
        "outputId": "b0b29aaf-0efe-479d-9b80-1a8338566b31"
      },
      "outputs": [
        {
          "data": {
            "text/plain": [
              "3"
            ]
          },
          "execution_count": 8,
          "metadata": {},
          "output_type": "execute_result"
        }
      ],
      "source": [
        "array_rnd.ndim"
      ]
    },
    {
      "cell_type": "code",
      "execution_count": null,
      "metadata": {
        "id": "Q7LLVzaSk617",
        "outputId": "ebc47c13-179a-415e-bde1-ff434393f3bd"
      },
      "outputs": [
        {
          "data": {
            "text/plain": [
              "array([[[0.75543605, 0.42095234],\n",
              "        [0.51709907, 0.12165064],\n",
              "        [0.5541167 , 0.23243043],\n",
              "        [0.94227545, 0.06252576]],\n",
              "\n",
              "       [[0.97874145, 0.02642182],\n",
              "        [0.09090636, 0.83637781],\n",
              "        [0.85014456, 0.74821421],\n",
              "        [0.52183751, 0.8682671 ]],\n",
              "\n",
              "       [[0.39637747, 0.88640362],\n",
              "        [0.45590118, 0.88646603],\n",
              "        [0.69433755, 0.22625496],\n",
              "        [0.04637812, 0.91234161]]])"
            ]
          },
          "execution_count": 10,
          "metadata": {},
          "output_type": "execute_result"
        }
      ],
      "source": [
        "array_rnd"
      ]
    },
    {
      "cell_type": "markdown",
      "metadata": {
        "id": "8D40mU8nk617"
      },
      "source": [
        " - create numpy array filled with constants"
      ]
    },
    {
      "cell_type": "code",
      "execution_count": null,
      "metadata": {
        "id": "wV1jNJ_Sk618"
      },
      "outputs": [],
      "source": [
        "array_zeros = np.zeros(shape = (2, 3))"
      ]
    },
    {
      "cell_type": "code",
      "execution_count": null,
      "metadata": {
        "id": "k6TvBOeik618"
      },
      "outputs": [],
      "source": [
        "array_ones = np.ones(shape = (4, 3))"
      ]
    },
    {
      "cell_type": "code",
      "execution_count": null,
      "metadata": {
        "id": "LDBT4NIck619"
      },
      "outputs": [],
      "source": [
        "array_const = np.full(shape=(4, 2), fill_value=20)"
      ]
    },
    {
      "cell_type": "markdown",
      "metadata": {
        "id": "C-C6OmGqk619"
      },
      "source": [
        " - Matrix Operations"
      ]
    },
    {
      "cell_type": "code",
      "execution_count": null,
      "metadata": {
        "id": "MUmP6TMdk619"
      },
      "outputs": [],
      "source": [
        "# Transpose\n",
        "array_1 = np.random.random((3, 4))"
      ]
    },
    {
      "cell_type": "code",
      "execution_count": null,
      "metadata": {
        "id": "dRtpsezqk61-",
        "outputId": "71c92977-3722-4c05-811a-aa5e3d76910b"
      },
      "outputs": [
        {
          "data": {
            "text/plain": [
              "array([[0.31668661, 0.84781081, 0.6284157 , 0.48610955],\n",
              "       [0.2631968 , 0.82454637, 0.36721207, 0.33143658],\n",
              "       [0.51510058, 0.77402777, 0.67656937, 0.60801626]])"
            ]
          },
          "execution_count": 19,
          "metadata": {},
          "output_type": "execute_result"
        }
      ],
      "source": [
        "array_1"
      ]
    },
    {
      "cell_type": "code",
      "execution_count": null,
      "metadata": {
        "id": "xRrtuT74k61-",
        "outputId": "f5b9fb28-1969-4015-ee11-ba480e3b398f"
      },
      "outputs": [
        {
          "data": {
            "text/plain": [
              "array([[0.31668661, 0.2631968 , 0.51510058],\n",
              "       [0.84781081, 0.82454637, 0.77402777],\n",
              "       [0.6284157 , 0.36721207, 0.67656937],\n",
              "       [0.48610955, 0.33143658, 0.60801626]])"
            ]
          },
          "execution_count": 20,
          "metadata": {},
          "output_type": "execute_result"
        }
      ],
      "source": [
        "array_1.T"
      ]
    },
    {
      "cell_type": "code",
      "execution_count": null,
      "metadata": {
        "id": "frnbKHcnk61-"
      },
      "outputs": [],
      "source": [
        "# Inverse of a Square Matrix => A*B = I\n",
        "# Square Matrix => no. rows = no. columns\n",
        "\n",
        "square_matrix = np.random.random(size=(4, 4))"
      ]
    },
    {
      "cell_type": "code",
      "execution_count": null,
      "metadata": {
        "id": "-6kceix0k61_",
        "outputId": "fc012d16-c6fe-4237-9dfe-f629c6cd026d"
      },
      "outputs": [
        {
          "data": {
            "text/plain": [
              "array([[0.56625353, 0.83396431, 0.31769335, 0.54965384],\n",
              "       [0.48999649, 0.25958587, 0.01516796, 0.15620919],\n",
              "       [0.67454013, 0.63323915, 0.05379334, 0.28676294],\n",
              "       [0.22065614, 0.90552576, 0.69887987, 0.19085075]])"
            ]
          },
          "execution_count": 24,
          "metadata": {},
          "output_type": "execute_result"
        }
      ],
      "source": [
        "square_matrix"
      ]
    },
    {
      "cell_type": "code",
      "execution_count": null,
      "metadata": {
        "id": "wxfbFMQ6k61_"
      },
      "outputs": [],
      "source": [
        "identity_matrix = np.identity(4)"
      ]
    },
    {
      "cell_type": "code",
      "execution_count": null,
      "metadata": {
        "id": "oTYZOeFck61_",
        "outputId": "18d1d624-df49-477c-db77-2a6caf9c4de7"
      },
      "outputs": [
        {
          "data": {
            "text/plain": [
              "array([[1., 0., 0., 0.],\n",
              "       [0., 1., 0., 0.],\n",
              "       [0., 0., 1., 0.],\n",
              "       [0., 0., 0., 1.]])"
            ]
          },
          "execution_count": 33,
          "metadata": {},
          "output_type": "execute_result"
        }
      ],
      "source": [
        "identity_matrix"
      ]
    },
    {
      "cell_type": "code",
      "execution_count": null,
      "metadata": {
        "id": "j0LqTiPMk61_",
        "outputId": "b83feafe-46ed-4fad-be53-ccf110dc61b4"
      },
      "outputs": [
        {
          "data": {
            "text/plain": [
              "6"
            ]
          },
          "execution_count": 34,
          "metadata": {},
          "output_type": "execute_result"
        }
      ],
      "source": [
        "1 * 6"
      ]
    },
    {
      "cell_type": "code",
      "execution_count": null,
      "metadata": {
        "id": "f4yDi_uHk61_",
        "outputId": "2786b392-1733-4c6b-d7e7-eec7129ea58b"
      },
      "outputs": [
        {
          "data": {
            "text/plain": [
              "1.0"
            ]
          },
          "execution_count": 35,
          "metadata": {},
          "output_type": "execute_result"
        }
      ],
      "source": [
        "6 * 1/6"
      ]
    },
    {
      "cell_type": "code",
      "execution_count": null,
      "metadata": {
        "id": "m53SfV0Yk62A",
        "outputId": "c6b99885-ae55-4def-b34e-9998a4479c39"
      },
      "outputs": [
        {
          "data": {
            "text/plain": [
              "array([[0.56625353, 0.83396431, 0.31769335, 0.54965384],\n",
              "       [0.48999649, 0.25958587, 0.01516796, 0.15620919],\n",
              "       [0.67454013, 0.63323915, 0.05379334, 0.28676294],\n",
              "       [0.22065614, 0.90552576, 0.69887987, 0.19085075]])"
            ]
          },
          "execution_count": 38,
          "metadata": {},
          "output_type": "execute_result"
        }
      ],
      "source": [
        "square_matrix"
      ]
    },
    {
      "cell_type": "code",
      "execution_count": null,
      "metadata": {
        "id": "uQlHLJVWk62A",
        "outputId": "62c72e27-17d8-46a0-e897-7f244a52abc3"
      },
      "outputs": [
        {
          "data": {
            "text/plain": [
              "array([[0.56625353, 0.83396431, 0.31769335, 0.54965384],\n",
              "       [0.48999649, 0.25958587, 0.01516796, 0.15620919],\n",
              "       [0.67454013, 0.63323915, 0.05379334, 0.28676294],\n",
              "       [0.22065614, 0.90552576, 0.69887987, 0.19085075]])"
            ]
          },
          "execution_count": 37,
          "metadata": {},
          "output_type": "execute_result"
        }
      ],
      "source": [
        "np.dot(identity_matrix, square_matrix)"
      ]
    },
    {
      "cell_type": "code",
      "execution_count": null,
      "metadata": {
        "id": "0jiq5Xchk62A"
      },
      "outputs": [],
      "source": [
        "inv_sq_matrix = np.linalg.inv(square_matrix)"
      ]
    },
    {
      "cell_type": "code",
      "execution_count": null,
      "metadata": {
        "id": "CikxLYB0k62A",
        "outputId": "672c42ea-aa9c-4de8-c42a-2d331bd326a4"
      },
      "outputs": [
        {
          "data": {
            "text/plain": [
              "array([[ 1.00000000e+00,  0.00000000e+00, -5.55111512e-17,\n",
              "         1.11022302e-16],\n",
              "       [ 0.00000000e+00,  1.00000000e+00,  0.00000000e+00,\n",
              "        -1.11022302e-16],\n",
              "       [-4.44089210e-16,  0.00000000e+00,  1.00000000e+00,\n",
              "         0.00000000e+00],\n",
              "       [-1.66533454e-16,  2.22044605e-16,  2.22044605e-16,\n",
              "         1.00000000e+00]])"
            ]
          },
          "execution_count": 41,
          "metadata": {},
          "output_type": "execute_result"
        }
      ],
      "source": [
        "np.dot(inv_sq_matrix, square_matrix)"
      ]
    },
    {
      "cell_type": "code",
      "execution_count": null,
      "metadata": {
        "id": "zD4OuKQCk62A"
      },
      "outputs": [],
      "source": [
        "det_square_matrix = np.linalg.det(square_matrix)"
      ]
    },
    {
      "cell_type": "markdown",
      "metadata": {
        "id": "khK_1WF-k62B"
      },
      "source": [
        "### Arithematic Operations numpy Arrays"
      ]
    },
    {
      "cell_type": "markdown",
      "metadata": {
        "id": "_yLct9cgk62B"
      },
      "source": [
        " - array with scaler"
      ]
    },
    {
      "cell_type": "code",
      "execution_count": null,
      "metadata": {
        "id": "tKAQYPYFk62B"
      },
      "outputs": [],
      "source": [
        "array_2 = np.random.random((3, 2))"
      ]
    },
    {
      "cell_type": "code",
      "execution_count": null,
      "metadata": {
        "id": "4YTgVjs0k62B",
        "outputId": "d5d9ac4e-0042-4d12-9d15-4164c3f450dc"
      },
      "outputs": [
        {
          "data": {
            "text/plain": [
              "array([[0.51764361, 0.41822697],\n",
              "       [0.41605916, 0.23091645],\n",
              "       [0.32263804, 0.76101364]])"
            ]
          },
          "execution_count": 45,
          "metadata": {},
          "output_type": "execute_result"
        }
      ],
      "source": [
        "array_2"
      ]
    },
    {
      "cell_type": "markdown",
      "metadata": {
        "id": "KeNz_m8Qk62B"
      },
      "source": [
        " - +, -, /, *, %"
      ]
    },
    {
      "cell_type": "code",
      "execution_count": null,
      "metadata": {
        "id": "wC87DTZuk62B",
        "outputId": "1cbfed36-c130-473c-eb62-04f145247b6e"
      },
      "outputs": [
        {
          "data": {
            "text/plain": [
              "array([[0.00258822, 0.00209113],\n",
              "       [0.0020803 , 0.00115458],\n",
              "       [0.00161319, 0.00380507]])"
            ]
          },
          "execution_count": 51,
          "metadata": {},
          "output_type": "execute_result"
        }
      ],
      "source": [
        "array_2 * 0.005"
      ]
    },
    {
      "cell_type": "markdown",
      "metadata": {
        "id": "khfrqo3Yk62B"
      },
      "source": [
        " - array with another array"
      ]
    },
    {
      "cell_type": "code",
      "execution_count": null,
      "metadata": {
        "id": "dlscJB_0k62C"
      },
      "outputs": [],
      "source": [
        "array_3 = np.array([1, 2])"
      ]
    },
    {
      "cell_type": "code",
      "execution_count": null,
      "metadata": {
        "id": "zHb74_yxk62C",
        "outputId": "ec426097-709f-4578-b8e3-223812d18a77"
      },
      "outputs": [
        {
          "data": {
            "text/plain": [
              "((2,), (3, 2))"
            ]
          },
          "execution_count": 55,
          "metadata": {},
          "output_type": "execute_result"
        }
      ],
      "source": [
        "array_3.shape, array_2.shape"
      ]
    },
    {
      "cell_type": "code",
      "execution_count": null,
      "metadata": {
        "id": "w_oMXkink62C",
        "outputId": "35ebf57a-2482-4645-a8b8-9fbadc40b62f"
      },
      "outputs": [
        {
          "data": {
            "text/plain": [
              "array([[1.51764361, 2.41822697],\n",
              "       [1.41605916, 2.23091645],\n",
              "       [1.32263804, 2.76101364]])"
            ]
          },
          "execution_count": 56,
          "metadata": {},
          "output_type": "execute_result"
        }
      ],
      "source": [
        "array_2 + array_3"
      ]
    },
    {
      "cell_type": "code",
      "execution_count": null,
      "metadata": {
        "id": "s-N3bJnJk62C"
      },
      "outputs": [],
      "source": [
        "array_4 = np.array([[1], [2], [3]])"
      ]
    },
    {
      "cell_type": "code",
      "execution_count": null,
      "metadata": {
        "id": "d1z0O20zk62C",
        "outputId": "7413a166-9f64-46ea-d6b8-c3775d4d101a"
      },
      "outputs": [
        {
          "data": {
            "text/plain": [
              "(3, 1)"
            ]
          },
          "execution_count": 61,
          "metadata": {},
          "output_type": "execute_result"
        }
      ],
      "source": [
        "array_4.shape"
      ]
    },
    {
      "cell_type": "code",
      "execution_count": null,
      "metadata": {
        "id": "E3lkIMMxk62C",
        "outputId": "cf08602c-b2d8-4448-c45f-ed1e9cb92ad9"
      },
      "outputs": [
        {
          "data": {
            "text/plain": [
              "(3, 2)"
            ]
          },
          "execution_count": 62,
          "metadata": {},
          "output_type": "execute_result"
        }
      ],
      "source": [
        "array_2.shape"
      ]
    },
    {
      "cell_type": "code",
      "execution_count": null,
      "metadata": {
        "id": "bjscMWYlk62D",
        "outputId": "6f328763-5962-44ce-9ecf-0884f9158101"
      },
      "outputs": [
        {
          "data": {
            "text/plain": [
              "array([[0.51764361, 0.41822697],\n",
              "       [0.41605916, 0.23091645],\n",
              "       [0.32263804, 0.76101364]])"
            ]
          },
          "execution_count": 64,
          "metadata": {},
          "output_type": "execute_result"
        }
      ],
      "source": [
        "array_2"
      ]
    },
    {
      "cell_type": "code",
      "execution_count": null,
      "metadata": {
        "id": "12sY1YhEk62H",
        "outputId": "bf5b6c91-d7cf-451b-ecbb-e915ef3f6192"
      },
      "outputs": [
        {
          "data": {
            "text/plain": [
              "array([[1],\n",
              "       [2],\n",
              "       [3]])"
            ]
          },
          "execution_count": 65,
          "metadata": {},
          "output_type": "execute_result"
        }
      ],
      "source": [
        "array_4"
      ]
    },
    {
      "cell_type": "code",
      "execution_count": null,
      "metadata": {
        "id": "GVfA9bhqk62H",
        "outputId": "1b234162-e904-4764-a7f0-f8a84aacee1a"
      },
      "outputs": [
        {
          "data": {
            "text/plain": [
              "array([[0.51764361, 0.41822697],\n",
              "       [0.83211831, 0.4618329 ],\n",
              "       [0.96791412, 2.28304093]])"
            ]
          },
          "execution_count": 66,
          "metadata": {},
          "output_type": "execute_result"
        }
      ],
      "source": [
        "array_2 * array_4"
      ]
    },
    {
      "cell_type": "markdown",
      "metadata": {
        "id": "chcfNUTNk62H"
      },
      "source": [
        " - when shapes match"
      ]
    },
    {
      "cell_type": "code",
      "execution_count": null,
      "metadata": {
        "id": "dg6MDHGBk62H"
      },
      "outputs": [],
      "source": [
        "array_5 = np.full((3, 2), 10)"
      ]
    },
    {
      "cell_type": "code",
      "execution_count": null,
      "metadata": {
        "id": "GExey7Y7k62I",
        "outputId": "92ef52e2-cb0e-409b-97c1-d5cf9e949e24"
      },
      "outputs": [
        {
          "data": {
            "text/plain": [
              "array([[10, 10],\n",
              "       [10, 10],\n",
              "       [10, 10]])"
            ]
          },
          "execution_count": 68,
          "metadata": {},
          "output_type": "execute_result"
        }
      ],
      "source": [
        "array_5"
      ]
    },
    {
      "cell_type": "code",
      "execution_count": null,
      "metadata": {
        "id": "vRNeu_21k62I",
        "outputId": "e33a80ff-1f3b-4ef1-f8ae-a418fe433df9"
      },
      "outputs": [
        {
          "data": {
            "text/plain": [
              "array([[0.51764361, 0.41822697],\n",
              "       [0.41605916, 0.23091645],\n",
              "       [0.32263804, 0.76101364]])"
            ]
          },
          "execution_count": 69,
          "metadata": {},
          "output_type": "execute_result"
        }
      ],
      "source": [
        "array_2"
      ]
    },
    {
      "cell_type": "code",
      "execution_count": null,
      "metadata": {
        "id": "gEv_Jql6k62I",
        "outputId": "b74c7575-a02c-43bb-ba19-832e0dcd0509"
      },
      "outputs": [
        {
          "data": {
            "text/plain": [
              "array([[5.17643614, 4.1822697 ],\n",
              "       [4.16059156, 2.30916449],\n",
              "       [3.22638039, 7.61013645]])"
            ]
          },
          "execution_count": 71,
          "metadata": {},
          "output_type": "execute_result"
        }
      ],
      "source": [
        "array_2 * array_5"
      ]
    },
    {
      "cell_type": "markdown",
      "metadata": {
        "id": "Ki9EXUodk62I"
      },
      "source": [
        " - Matrix multiplication"
      ]
    },
    {
      "cell_type": "code",
      "execution_count": null,
      "metadata": {
        "id": "MWUduJvDk62I"
      },
      "outputs": [],
      "source": [
        "array_6 = array_5.T"
      ]
    },
    {
      "cell_type": "code",
      "execution_count": null,
      "metadata": {
        "id": "k-CbnJo8k62I",
        "outputId": "29e22d30-e893-41ff-896a-a52729463c96"
      },
      "outputs": [
        {
          "data": {
            "text/plain": [
              "array([[ 9.35870584,  9.35870584,  9.35870584],\n",
              "       [ 6.46975605,  6.46975605,  6.46975605],\n",
              "       [10.83651684, 10.83651684, 10.83651684]])"
            ]
          },
          "execution_count": 74,
          "metadata": {},
          "output_type": "execute_result"
        }
      ],
      "source": [
        "np.dot(array_2, array_6)"
      ]
    },
    {
      "cell_type": "code",
      "execution_count": null,
      "metadata": {
        "id": "mJqLeHHRk62I",
        "outputId": "01c2277d-334d-4062-cf71-7719e9a09618"
      },
      "outputs": [
        {
          "data": {
            "text/plain": [
              "array([[11,  6, 18, 10],\n",
              "       [ 8, 11, 14, 19],\n",
              "       [ 6,  9,  9, 17]])"
            ]
          },
          "execution_count": 75,
          "metadata": {},
          "output_type": "execute_result"
        }
      ],
      "source": [
        "np.random.randint(low=5, high=20, size=(3, 4))"
      ]
    },
    {
      "cell_type": "code",
      "execution_count": null,
      "metadata": {
        "id": "puffJsnqk62J"
      },
      "outputs": [],
      "source": []
    }
  ],
  "metadata": {
    "kernelspec": {
      "display_name": "Python 3",
      "language": "python",
      "name": "python3"
    },
    "language_info": {
      "codemirror_mode": {
        "name": "ipython",
        "version": 3
      },
      "file_extension": ".py",
      "mimetype": "text/x-python",
      "name": "python",
      "nbconvert_exporter": "python",
      "pygments_lexer": "ipython3",
      "version": "3.8.5"
    },
    "colab": {
      "provenance": [],
      "include_colab_link": true
    }
  },
  "nbformat": 4,
  "nbformat_minor": 0
}